{
  "nbformat": 4,
  "nbformat_minor": 0,
  "metadata": {
    "colab": {
      "provenance": []
    },
    "kernelspec": {
      "name": "python3",
      "display_name": "Python 3"
    },
    "language_info": {
      "name": "python"
    }
  },
  "cells": [
    {
      "cell_type": "markdown",
      "source": [
        "#**Parcial \\# 3 de Estructuras de Datos**\n",
        "##***Punto 1: Algoritmos de ordenamiento***\n",
        "Efraín García Valencia \\\\\n",
        "Santiago Alexander Losada"
      ],
      "metadata": {
        "id": "LbjQVLf2u57p"
      }
    },
    {
      "cell_type": "markdown",
      "source": [
        "#**1. Data**"
      ],
      "metadata": {
        "id": "fvbyzBNfPwh6"
      }
    },
    {
      "cell_type": "code",
      "source": [
        "data = [{\"Código\":364,\"Nombre\":\"Cheese - Cheddar, Old White\",\"Cantidad\":86},\n",
        "{\"Código\":345,\"Nombre\":\"Pork - Loin, Center Cut\",\"Cantidad\":4},\n",
        "{\"Código\":606,\"Nombre\":\"Olive - Spread Tapenade\",\"Cantidad\":11},\n",
        "{\"Código\":516,\"Nombre\":\"Contreau\",\"Cantidad\":78},\n",
        "{\"Código\":790,\"Nombre\":\"Apple - Granny Smith\",\"Cantidad\":86},\n",
        "{\"Código\":709,\"Nombre\":\"Ecolab Silver Fusion\",\"Cantidad\":85},\n",
        "{\"Código\":924,\"Nombre\":\"Sprouts Dikon\",\"Cantidad\":7},\n",
        "{\"Código\":57,\"Nombre\":\"Sauce - Plum\",\"Cantidad\":50},\n",
        "{\"Código\":592,\"Nombre\":\"Lamb - Racks, Frenched\",\"Cantidad\":2},\n",
        "{\"Código\":956,\"Nombre\":\"Lumpfish Black\",\"Cantidad\":59},\n",
        "{\"Código\":636,\"Nombre\":\"Pasta - Orzo, Dry\",\"Cantidad\":21},\n",
        "{\"Código\":670,\"Nombre\":\"Carbonated Water - Blackberry\",\"Cantidad\":82},\n",
        "{\"Código\":243,\"Nombre\":\"Bread - Olive Dinner Roll\",\"Cantidad\":12},\n",
        "{\"Código\":826,\"Nombre\":\"Squash - Sunburst\",\"Cantidad\":58},\n",
        "{\"Código\":685,\"Nombre\":\"Wine - Zinfandel Rosenblum\",\"Cantidad\":78},\n",
        "{\"Código\":443,\"Nombre\":\"Filling - Mince Meat\",\"Cantidad\":1},\n",
        "{\"Código\":25,\"Nombre\":\"Blackberries\",\"Cantidad\":10},\n",
        "{\"Código\":469,\"Nombre\":\"Squash - Pepper\",\"Cantidad\":5},\n",
        "{\"Código\":647,\"Nombre\":\"Sugar - Sweet N Low, Individual\",\"Cantidad\":22},\n",
        "{\"Código\":232,\"Nombre\":\"Sour Puss - Tangerine\",\"Cantidad\":40},\n",
        "{\"Código\":925,\"Nombre\":\"Cabbage - Nappa\",\"Cantidad\":84},\n",
        "{\"Código\":263,\"Nombre\":\"Chicken - Breast, 5 - 7 Oz\",\"Cantidad\":53},\n",
        "{\"Código\":739,\"Nombre\":\"Juice - Clam, 46 Oz\",\"Cantidad\":65},\n",
        "{\"Código\":79,\"Nombre\":\"Filling - Mince Meat\",\"Cantidad\":43},\n",
        "{\"Código\":171,\"Nombre\":\"Stock - Beef, Brown\",\"Cantidad\":82},\n",
        "{\"Código\":405,\"Nombre\":\"Cheese - Gouda\",\"Cantidad\":50},\n",
        "{\"Código\":529,\"Nombre\":\"Chicken Giblets\",\"Cantidad\":32},\n",
        "{\"Código\":14,\"Nombre\":\"Vinegar - Balsamic\",\"Cantidad\":32},\n",
        "{\"Código\":776,\"Nombre\":\"Yogurt - Blueberry, 175 Gr\",\"Cantidad\":100},\n",
        "{\"Código\":976,\"Nombre\":\"Plastic Arrow Stir Stick\",\"Cantidad\":90},\n",
        "{\"Código\":244,\"Nombre\":\"Wine - Red, Antinori Santa\",\"Cantidad\":100},\n",
        "{\"Código\":852,\"Nombre\":\"Anchovy Fillets\",\"Cantidad\":73},\n",
        "{\"Código\":287,\"Nombre\":\"Sauce - Hoisin\",\"Cantidad\":67},\n",
        "{\"Código\":566,\"Nombre\":\"Mustard - Dijon\",\"Cantidad\":50},\n",
        "{\"Código\":761,\"Nombre\":\"Bar Mix - Pina Colada, 355 Ml\",\"Cantidad\":8},\n",
        "{\"Código\":656,\"Nombre\":\"Sauce - Vodka Blush\",\"Cantidad\":30},\n",
        "{\"Código\":946,\"Nombre\":\"Bread - Assorted Rolls\",\"Cantidad\":33},\n",
        "{\"Código\":192,\"Nombre\":\"Wine - White, Concha Y Toro\",\"Cantidad\":1},\n",
        "{\"Código\":714,\"Nombre\":\"Shrimp - Baby, Cold Water\",\"Cantidad\":29},\n",
        "{\"Código\":249,\"Nombre\":\"Gingerale - Schweppes, 355 Ml\",\"Cantidad\":38},\n",
        "{\"Código\":569,\"Nombre\":\"Cookie Dough - Double\",\"Cantidad\":74},\n",
        "{\"Código\":629,\"Nombre\":\"Container Clear 8 Oz\",\"Cantidad\":70},\n",
        "{\"Código\":128,\"Nombre\":\"Broom - Push\",\"Cantidad\":23},\n",
        "{\"Código\":668,\"Nombre\":\"Veal - Ground\",\"Cantidad\":77},\n",
        "{\"Código\":74,\"Nombre\":\"Cookie Choc\",\"Cantidad\":46},\n",
        "{\"Código\":839,\"Nombre\":\"Red Snapper - Fillet, Skin On\",\"Cantidad\":9},\n",
        "{\"Código\":140,\"Nombre\":\"Flower - Commercial Bronze\",\"Cantidad\":99},\n",
        "{\"Código\":726,\"Nombre\":\"Seabream Whole Farmed\",\"Cantidad\":99},\n",
        "{\"Código\":521,\"Nombre\":\"Bar Special K\",\"Cantidad\":73},\n",
        "{\"Código\":993,\"Nombre\":\"Sauce - Bernaise, Mix\",\"Cantidad\":10},\n",
        "{\"Código\":615,\"Nombre\":\"Jolt Cola\",\"Cantidad\":4},\n",
        "{\"Código\":742,\"Nombre\":\"Lamb - Shanks\",\"Cantidad\":84},\n",
        "{\"Código\":498,\"Nombre\":\"Pickerel - Fillets\",\"Cantidad\":96},\n",
        "{\"Código\":848,\"Nombre\":\"Tuna - Bluefin\",\"Cantidad\":89},\n",
        "{\"Código\":80,\"Nombre\":\"Beans - Yellow\",\"Cantidad\":11},\n",
        "{\"Código\":792,\"Nombre\":\"Orange - Blood\",\"Cantidad\":97},\n",
        "{\"Código\":118,\"Nombre\":\"Beer - Camerons Auburn\",\"Cantidad\":70},\n",
        "{\"Código\":482,\"Nombre\":\"Pepper - Julienne, Frozen\",\"Cantidad\":6},\n",
        "{\"Código\":250,\"Nombre\":\"Honey - Liquid\",\"Cantidad\":34},\n",
        "{\"Código\":961,\"Nombre\":\"Ice Cream Bar - Oreo Sandwich\",\"Cantidad\":100},\n",
        "{\"Código\":666,\"Nombre\":\"Mountain Dew\",\"Cantidad\":12},\n",
        "{\"Código\":55,\"Nombre\":\"Iced Tea - Lemon, 340ml\",\"Cantidad\":50},\n",
        "{\"Código\":900,\"Nombre\":\"Brandy Apricot\",\"Cantidad\":37},\n",
        "{\"Código\":830,\"Nombre\":\"Pepper - Chillies, Crushed\",\"Cantidad\":6},\n",
        "{\"Código\":202,\"Nombre\":\"Juice - Lagoon Mango\",\"Cantidad\":68},\n",
        "{\"Código\":879,\"Nombre\":\"Plasticknivesblack\",\"Cantidad\":57},\n",
        "{\"Código\":390,\"Nombre\":\"Dikon\",\"Cantidad\":4},\n",
        "{\"Código\":93,\"Nombre\":\"Tart Shells - Savory, 2\",\"Cantidad\":52},\n",
        "{\"Código\":10,\"Nombre\":\"Veal - Tenderloin, Untrimmed\",\"Cantidad\":24},\n",
        "{\"Código\":403,\"Nombre\":\"Chips Potato Salt Vinegar 43g\",\"Cantidad\":29},\n",
        "{\"Código\":648,\"Nombre\":\"Corn Syrup\",\"Cantidad\":84},\n",
        "{\"Código\":996,\"Nombre\":\"Cocoa Powder - Natural\",\"Cantidad\":98},\n",
        "{\"Código\":529,\"Nombre\":\"Chinese Foods - Plain Fried Rice\",\"Cantidad\":19},\n",
        "{\"Código\":965,\"Nombre\":\"Muffin Batt - Blueberry Passion\",\"Cantidad\":11},\n",
        "{\"Código\":811,\"Nombre\":\"Pork - Sausage, Medium\",\"Cantidad\":52},\n",
        "{\"Código\":43,\"Nombre\":\"Gin - Gilbeys London, Dry\",\"Cantidad\":11},\n",
        "{\"Código\":655,\"Nombre\":\"Muffin - Carrot Individual Wrap\",\"Cantidad\":35},\n",
        "{\"Código\":720,\"Nombre\":\"Shiro Miso\",\"Cantidad\":26},\n",
        "{\"Código\":939,\"Nombre\":\"Muffin Orange Individual\",\"Cantidad\":43},\n",
        "{\"Código\":482,\"Nombre\":\"Pork - Bacon Cooked Slcd\",\"Cantidad\":27},\n",
        "{\"Código\":901,\"Nombre\":\"Spring Roll Veg Mini\",\"Cantidad\":84},\n",
        "{\"Código\":847,\"Nombre\":\"Turkey - Ground. Lean\",\"Cantidad\":72},\n",
        "{\"Código\":541,\"Nombre\":\"Cheese - Le Cheve Noir\",\"Cantidad\":36},\n",
        "{\"Código\":818,\"Nombre\":\"Liners - Banana, Paper\",\"Cantidad\":61},\n",
        "{\"Código\":886,\"Nombre\":\"Passion Fruit\",\"Cantidad\":89},\n",
        "{\"Código\":56,\"Nombre\":\"Wine - Casillero Deldiablo\",\"Cantidad\":66},\n",
        "{\"Código\":837,\"Nombre\":\"Crab - Dungeness, Whole\",\"Cantidad\":96},\n",
        "{\"Código\":912,\"Nombre\":\"Blouse / Shirt / Sweater\",\"Cantidad\":98},\n",
        "{\"Código\":734,\"Nombre\":\"Chicken - Leg, Fresh\",\"Cantidad\":90},\n",
        "{\"Código\":474,\"Nombre\":\"Wine - Red, Black Opal Shiraz\",\"Cantidad\":77},\n",
        "{\"Código\":349,\"Nombre\":\"Green Tea Refresher\",\"Cantidad\":54},\n",
        "{\"Código\":479,\"Nombre\":\"English Muffin\",\"Cantidad\":51},\n",
        "{\"Código\":978,\"Nombre\":\"Wine - Red, Antinori Santa\",\"Cantidad\":28},\n",
        "{\"Código\":568,\"Nombre\":\"Pie Filling - Cherry\",\"Cantidad\":41},\n",
        "{\"Código\":783,\"Nombre\":\"Sauce - Sesame Thai Dressing\",\"Cantidad\":23},\n",
        "{\"Código\":158,\"Nombre\":\"Muffin Hinge - 211n\",\"Cantidad\":63},\n",
        "{\"Código\":815,\"Nombre\":\"Lemonade - Black Cherry, 591 Ml\",\"Cantidad\":92},\n",
        "{\"Código\":175,\"Nombre\":\"Sole - Dover, Whole, Fresh\",\"Cantidad\":73},\n",
        "{\"Código\":467,\"Nombre\":\"Potatoes - Fingerling 4 Oz\",\"Cantidad\":91},\n",
        "{\"Código\":425,\"Nombre\":\"Quail - Jumbo Boneless\",\"Cantidad\":23},\n",
        "{\"Código\":760,\"Nombre\":\"Juice - Mango\",\"Cantidad\":4},\n",
        "{\"Código\":945,\"Nombre\":\"Wine - Ej Gallo Sierra Valley\",\"Cantidad\":61},\n",
        "{\"Código\":845,\"Nombre\":\"Tuna - Bluefin\",\"Cantidad\":50},\n",
        "{\"Código\":129,\"Nombre\":\"Bread - 10 Grain\",\"Cantidad\":22},\n",
        "{\"Código\":734,\"Nombre\":\"Lettuce - California Mix\",\"Cantidad\":74},\n",
        "{\"Código\":213,\"Nombre\":\"Cheese - Taleggio D.o.p.\",\"Cantidad\":63},\n",
        "{\"Código\":905,\"Nombre\":\"Tilapia - Fillets\",\"Cantidad\":24},\n",
        "{\"Código\":622,\"Nombre\":\"Pastry - Chocolate Chip Muffin\",\"Cantidad\":49},\n",
        "{\"Código\":75,\"Nombre\":\"Sprouts - Corn\",\"Cantidad\":61},\n",
        "{\"Código\":117,\"Nombre\":\"Maintenance Removal Charge\",\"Cantidad\":34},\n",
        "{\"Código\":97,\"Nombre\":\"Tequila Rose Cream Liquor\",\"Cantidad\":3},\n",
        "{\"Código\":157,\"Nombre\":\"Wine - Red, Metus Rose\",\"Cantidad\":64},\n",
        "{\"Código\":813,\"Nombre\":\"Sauce - Bernaise, Mix\",\"Cantidad\":90},\n",
        "{\"Código\":540,\"Nombre\":\"Crab - Back Fin Meat, Canned\",\"Cantidad\":65},\n",
        "{\"Código\":810,\"Nombre\":\"Sugar - Brown\",\"Cantidad\":52},\n",
        "{\"Código\":311,\"Nombre\":\"Neckerchief Blck\",\"Cantidad\":10},\n",
        "{\"Código\":530,\"Nombre\":\"Puree - Kiwi\",\"Cantidad\":59},\n",
        "{\"Código\":808,\"Nombre\":\"Trueblue - Blueberry\",\"Cantidad\":90},\n",
        "{\"Código\":970,\"Nombre\":\"Beef - Montreal Smoked Brisket\",\"Cantidad\":99},\n",
        "{\"Código\":335,\"Nombre\":\"Mini - Vol Au Vents\",\"Cantidad\":45},\n",
        "{\"Código\":873,\"Nombre\":\"Pasta - Fettuccine, Dry\",\"Cantidad\":45},\n",
        "{\"Código\":827,\"Nombre\":\"Currants\",\"Cantidad\":45},\n",
        "{\"Código\":177,\"Nombre\":\"Chocolate - Pistoles, White\",\"Cantidad\":96},\n",
        "{\"Código\":921,\"Nombre\":\"Ginger - Pickled\",\"Cantidad\":34},\n",
        "{\"Código\":756,\"Nombre\":\"Garam Masala Powder\",\"Cantidad\":89},\n",
        "{\"Código\":470,\"Nombre\":\"Crab Brie In Phyllo\",\"Cantidad\":54},\n",
        "{\"Código\":944,\"Nombre\":\"Heavy Duty Dust Pan\",\"Cantidad\":54},\n",
        "{\"Código\":824,\"Nombre\":\"Pepsi - Diet, 355 Ml\",\"Cantidad\":32},\n",
        "{\"Código\":663,\"Nombre\":\"Potato - Sweet\",\"Cantidad\":20},\n",
        "{\"Código\":62,\"Nombre\":\"Shrimp - Black Tiger 13/15\",\"Cantidad\":95},\n",
        "{\"Código\":431,\"Nombre\":\"Lemonade - Pineapple Passion\",\"Cantidad\":28},\n",
        "{\"Código\":571,\"Nombre\":\"Pasta - Lasagna Noodle, Frozen\",\"Cantidad\":23},\n",
        "{\"Código\":447,\"Nombre\":\"Scallops - 10/20\",\"Cantidad\":34},\n",
        "{\"Código\":967,\"Nombre\":\"Soup - French Can Pea\",\"Cantidad\":41},\n",
        "{\"Código\":18,\"Nombre\":\"Wine - White, Pinot Grigio\",\"Cantidad\":54},\n",
        "{\"Código\":395,\"Nombre\":\"Spring Roll Wrappers\",\"Cantidad\":95},\n",
        "{\"Código\":233,\"Nombre\":\"Olives - Green, Pitted\",\"Cantidad\":54},\n",
        "{\"Código\":816,\"Nombre\":\"Soup - Campbells, Classic Chix\",\"Cantidad\":3},\n",
        "{\"Código\":220,\"Nombre\":\"Chambord Royal\",\"Cantidad\":99},\n",
        "{\"Código\":406,\"Nombre\":\"Soda Water - Club Soda, 355 Ml\",\"Cantidad\":42},\n",
        "{\"Código\":861,\"Nombre\":\"Cup - 4oz Translucent\",\"Cantidad\":32},\n",
        "{\"Código\":536,\"Nombre\":\"Vinegar - Red Wine\",\"Cantidad\":28},\n",
        "{\"Código\":32,\"Nombre\":\"Meldea Green Tea Liquor\",\"Cantidad\":68},\n",
        "{\"Código\":491,\"Nombre\":\"Pepper - Red, Finger Hot\",\"Cantidad\":22},\n",
        "{\"Código\":361,\"Nombre\":\"Wine La Vielle Ferme Cote Du\",\"Cantidad\":9},\n",
        "{\"Código\":201,\"Nombre\":\"Chicken Giblets\",\"Cantidad\":96},\n",
        "{\"Código\":488,\"Nombre\":\"Thermometer Digital\",\"Cantidad\":29},\n",
        "{\"Código\":625,\"Nombre\":\"Cheese - Goat With Herbs\",\"Cantidad\":91},\n",
        "{\"Código\":204,\"Nombre\":\"Kiwano\",\"Cantidad\":78},\n",
        "{\"Código\":928,\"Nombre\":\"Ice Cream - Life Savers\",\"Cantidad\":12},\n",
        "{\"Código\":103,\"Nombre\":\"Wine - Maipo Valle Cabernet\",\"Cantidad\":7},\n",
        "{\"Código\":336,\"Nombre\":\"Rappini - Andy Boy\",\"Cantidad\":38},\n",
        "{\"Código\":422,\"Nombre\":\"Wine - Remy Pannier Rose\",\"Cantidad\":36},\n",
        "{\"Código\":716,\"Nombre\":\"Whmis Spray Bottle Graduated\",\"Cantidad\":49},\n",
        "{\"Código\":891,\"Nombre\":\"Ice Cream - Fudge Bars\",\"Cantidad\":2},\n",
        "{\"Código\":675,\"Nombre\":\"Wine - Rosso Toscano Igt\",\"Cantidad\":6},\n",
        "{\"Código\":763,\"Nombre\":\"Muffin - Mix - Bran And Maple 15l\",\"Cantidad\":56},\n",
        "{\"Código\":574,\"Nombre\":\"Rice - Wild\",\"Cantidad\":38},\n",
        "{\"Código\":409,\"Nombre\":\"Bread - Bagels, Plain\",\"Cantidad\":71},\n",
        "{\"Código\":772,\"Nombre\":\"Pasta - Gnocchi, Potato\",\"Cantidad\":46},\n",
        "{\"Código\":620,\"Nombre\":\"Mussels - Frozen\",\"Cantidad\":83},\n",
        "{\"Código\":487,\"Nombre\":\"Pepper - Chili Powder\",\"Cantidad\":77},\n",
        "{\"Código\":411,\"Nombre\":\"Wine - Soave Folonari\",\"Cantidad\":93},\n",
        "{\"Código\":770,\"Nombre\":\"Sole - Dover, Whole, Fresh\",\"Cantidad\":94},\n",
        "{\"Código\":511,\"Nombre\":\"Truffle Cups Green\",\"Cantidad\":90},\n",
        "{\"Código\":37,\"Nombre\":\"Food Colouring - Orange\",\"Cantidad\":35},\n",
        "{\"Código\":412,\"Nombre\":\"Ostrich - Fan Fillet\",\"Cantidad\":88},\n",
        "{\"Código\":84,\"Nombre\":\"Bacardi Limon\",\"Cantidad\":39},\n",
        "{\"Código\":734,\"Nombre\":\"Bay Leaf Fresh\",\"Cantidad\":80},\n",
        "{\"Código\":207,\"Nombre\":\"Venison - Denver Leg Boneless\",\"Cantidad\":76},\n",
        "{\"Código\":278,\"Nombre\":\"Cookie Dough - Double\",\"Cantidad\":35},\n",
        "{\"Código\":193,\"Nombre\":\"Truffle Cups Green\",\"Cantidad\":38},\n",
        "{\"Código\":277,\"Nombre\":\"Pasta - Ravioli\",\"Cantidad\":94},\n",
        "{\"Código\":897,\"Nombre\":\"Extract - Almond\",\"Cantidad\":37},\n",
        "{\"Código\":468,\"Nombre\":\"Cucumber - English\",\"Cantidad\":48},\n",
        "{\"Código\":925,\"Nombre\":\"Catfish - Fillets\",\"Cantidad\":85},\n",
        "{\"Código\":773,\"Nombre\":\"Muffin Mix - Carrot\",\"Cantidad\":88},\n",
        "{\"Código\":495,\"Nombre\":\"Flower - Leather Leaf Fern\",\"Cantidad\":57},\n",
        "{\"Código\":478,\"Nombre\":\"Sausage - Andouille\",\"Cantidad\":3},\n",
        "{\"Código\":669,\"Nombre\":\"Cheese - Camembert\",\"Cantidad\":12},\n",
        "{\"Código\":573,\"Nombre\":\"Soup - Campbells Asian Noodle\",\"Cantidad\":93},\n",
        "{\"Código\":925,\"Nombre\":\"Vegetable - Base\",\"Cantidad\":92},\n",
        "{\"Código\":558,\"Nombre\":\"Buttons\",\"Cantidad\":89},\n",
        "{\"Código\":304,\"Nombre\":\"Pan Grease\",\"Cantidad\":61},\n",
        "{\"Código\":167,\"Nombre\":\"Chicken - Thigh, Bone In\",\"Cantidad\":2},\n",
        "{\"Código\":82,\"Nombre\":\"Chips Potato Salt Vinegar 43g\",\"Cantidad\":39},\n",
        "{\"Código\":73,\"Nombre\":\"Onions - Cooking\",\"Cantidad\":94},\n",
        "{\"Código\":269,\"Nombre\":\"Cleaner - Bleach\",\"Cantidad\":92},\n",
        "{\"Código\":980,\"Nombre\":\"Sprouts - Alfalfa\",\"Cantidad\":93},\n",
        "{\"Código\":78,\"Nombre\":\"Arctic Char - Fresh, Whole\",\"Cantidad\":64},\n",
        "{\"Código\":44,\"Nombre\":\"Veal - Bones\",\"Cantidad\":49},\n",
        "{\"Código\":754,\"Nombre\":\"Jam - Raspberry,jar\",\"Cantidad\":45},\n",
        "{\"Código\":620,\"Nombre\":\"Cheese - Taleggio D.o.p.\",\"Cantidad\":72},\n",
        "{\"Código\":290,\"Nombre\":\"Fennel\",\"Cantidad\":27},\n",
        "{\"Código\":765,\"Nombre\":\"Tea - Mint\",\"Cantidad\":10},\n",
        "{\"Código\":594,\"Nombre\":\"Croissant, Raw - Mini\",\"Cantidad\":31},\n",
        "{\"Código\":535,\"Nombre\":\"Ice Cream - Strawberry\",\"Cantidad\":89},\n",
        "{\"Código\":279,\"Nombre\":\"Browning Caramel Glace\",\"Cantidad\":38},\n",
        "{\"Código\":701,\"Nombre\":\"Pastry - Baked Scones - Mini\",\"Cantidad\":9},\n",
        "{\"Código\":346,\"Nombre\":\"Sprouts - Brussel\",\"Cantidad\":60}]"
      ],
      "metadata": {
        "id": "pnzZQmyQN_c7"
      },
      "execution_count": 1,
      "outputs": []
    },
    {
      "cell_type": "markdown",
      "source": [
        "#**2. Algoritmo de ordenamiento de inventario**"
      ],
      "metadata": {
        "id": "ZisvftVfP3GS"
      }
    },
    {
      "cell_type": "code",
      "source": [
        "def inventory_sort(data, order_type):\n",
        "    if order_type == \"Código\":\n",
        "        return quicksort(data, key=lambda x: x[\"Código\"])\n",
        "    elif order_type == \"Nombre\":\n",
        "        return mergesort(data, key=lambda x: x[\"Nombre\"])\n",
        "    elif order_type == \"Cantidad\":\n",
        "        return quicksort(data, key=lambda x: x[\"Cantidad\"])\n",
        "    else:\n",
        "        raise ValueError(\"Tipo de ordenamiento no válido\")\n",
        "\n",
        "def quicksort(data, key=lambda x: x):\n",
        "    if len(data) <= 1:\n",
        "        return data\n",
        "    pivot = data[len(data) // 2]\n",
        "    less = [x for x in data if key(x) < key(pivot)]\n",
        "    equal = [x for x in data if key(x) == key(pivot)]\n",
        "    greater = [x for x in data if key(x) > key(pivot)]\n",
        "    return quicksort(less, key) + equal + quicksort(greater, key)\n",
        "\n",
        "def mergesort(data, key=lambda x: x):\n",
        "    if len(data) <= 1:\n",
        "        return data\n",
        "    middle = len(data) // 2\n",
        "    left = mergesort(data[:middle], key)\n",
        "    right = mergesort(data[middle:], key)\n",
        "    return merge(left, right, key)\n",
        "\n",
        "def merge(left, right, key=lambda x: x):\n",
        "    result = []\n",
        "    i = j = 0\n",
        "    while i < len(left) and j < len(right):\n",
        "        if key(left[i]) < key(right[j]):\n",
        "            result.append(left[i])\n",
        "            i += 1\n",
        "        else:\n",
        "            result.append(right[j])\n",
        "            j += 1\n",
        "    result.extend(left[i:])\n",
        "    result.extend(right[j:])\n",
        "    return result\n",
        "\n",
        "def print_inventory(data, short):\n",
        "  if short == True:\n",
        "    for i in range(10):\n",
        "        item = data[i]\n",
        "        print(f\"Código: {item['Código']}, Nombre: {item['Nombre']}, Cantidad: {item['Cantidad']}\")\n",
        "  else:\n",
        "    for item in data:\n",
        "        print(f\"Código: {item['Código']}, Nombre: {item['Nombre']}, Cantidad: {item['Cantidad']}\")"
      ],
      "metadata": {
        "id": "YbOe-JjMqh8l"
      },
      "execution_count": 15,
      "outputs": []
    },
    {
      "cell_type": "markdown",
      "source": [
        "##**Ordenamiento por Código**"
      ],
      "metadata": {
        "id": "2gre2VFIrfLF"
      }
    },
    {
      "cell_type": "code",
      "source": [
        "order_type = \"Código\"  # Puedes cambiar esto a \"Nombre\" o \"Cantidad\"\n",
        "sorted_data = inventory_sort(data, order_type)\n",
        "print_inventory(sorted_data, True)"
      ],
      "metadata": {
        "colab": {
          "base_uri": "https://localhost:8080/"
        },
        "id": "zqSE9NIlq2eC",
        "outputId": "a3dfdc35-1db4-4807-f39f-e6f2f9e5e888"
      },
      "execution_count": 18,
      "outputs": [
        {
          "output_type": "stream",
          "name": "stdout",
          "text": [
            "Código: 10, Nombre: Veal - Tenderloin, Untrimmed, Cantidad: 24\n",
            "Código: 14, Nombre: Vinegar - Balsamic, Cantidad: 32\n",
            "Código: 18, Nombre: Wine - White, Pinot Grigio, Cantidad: 54\n",
            "Código: 25, Nombre: Blackberries, Cantidad: 10\n",
            "Código: 32, Nombre: Meldea Green Tea Liquor, Cantidad: 68\n",
            "Código: 37, Nombre: Food Colouring - Orange, Cantidad: 35\n",
            "Código: 43, Nombre: Gin - Gilbeys London, Dry, Cantidad: 11\n",
            "Código: 44, Nombre: Veal - Bones, Cantidad: 49\n",
            "Código: 55, Nombre: Iced Tea - Lemon, 340ml, Cantidad: 50\n",
            "Código: 56, Nombre: Wine - Casillero Deldiablo, Cantidad: 66\n"
          ]
        }
      ]
    },
    {
      "cell_type": "markdown",
      "source": [
        "##**Ordenamiento por Cantidad**"
      ],
      "metadata": {
        "id": "46iZHGz1rmIZ"
      }
    },
    {
      "cell_type": "code",
      "source": [
        "order_type = \"Cantidad\"  # Puedes cambiar esto a \"Nombre\" o \"Cantidad\"\n",
        "sorted_data = inventory_sort(data, order_type)\n",
        "print_inventory(sorted_data, True)"
      ],
      "metadata": {
        "colab": {
          "base_uri": "https://localhost:8080/"
        },
        "id": "IVAJTJYYrDHs",
        "outputId": "c4b1c51f-f1ca-4504-ea31-d2abd6f95fca"
      },
      "execution_count": 19,
      "outputs": [
        {
          "output_type": "stream",
          "name": "stdout",
          "text": [
            "Código: 443, Nombre: Filling - Mince Meat, Cantidad: 1\n",
            "Código: 192, Nombre: Wine - White, Concha Y Toro, Cantidad: 1\n",
            "Código: 592, Nombre: Lamb - Racks, Frenched, Cantidad: 2\n",
            "Código: 891, Nombre: Ice Cream - Fudge Bars, Cantidad: 2\n",
            "Código: 167, Nombre: Chicken - Thigh, Bone In, Cantidad: 2\n",
            "Código: 97, Nombre: Tequila Rose Cream Liquor, Cantidad: 3\n",
            "Código: 816, Nombre: Soup - Campbells, Classic Chix, Cantidad: 3\n",
            "Código: 478, Nombre: Sausage - Andouille, Cantidad: 3\n",
            "Código: 345, Nombre: Pork - Loin, Center Cut, Cantidad: 4\n",
            "Código: 615, Nombre: Jolt Cola, Cantidad: 4\n"
          ]
        }
      ]
    },
    {
      "cell_type": "markdown",
      "source": [
        "##**Ordenamiento por Nombre**"
      ],
      "metadata": {
        "id": "R6gA85xoroH6"
      }
    },
    {
      "cell_type": "code",
      "source": [
        "order_type = \"Nombre\"  # Puedes cambiar esto a \"Nombre\" o \"Cantidad\"\n",
        "sorted_data = inventory_sort(data, order_type)\n",
        "print_inventory(sorted_data, True)"
      ],
      "metadata": {
        "colab": {
          "base_uri": "https://localhost:8080/"
        },
        "id": "4R0wYV2OrDzd",
        "outputId": "52c04e6d-deb9-4551-bf2a-2247f378608a"
      },
      "execution_count": 20,
      "outputs": [
        {
          "output_type": "stream",
          "name": "stdout",
          "text": [
            "Código: 852, Nombre: Anchovy Fillets, Cantidad: 73\n",
            "Código: 790, Nombre: Apple - Granny Smith, Cantidad: 86\n",
            "Código: 78, Nombre: Arctic Char - Fresh, Whole, Cantidad: 64\n",
            "Código: 84, Nombre: Bacardi Limon, Cantidad: 39\n",
            "Código: 761, Nombre: Bar Mix - Pina Colada, 355 Ml, Cantidad: 8\n",
            "Código: 521, Nombre: Bar Special K, Cantidad: 73\n",
            "Código: 734, Nombre: Bay Leaf Fresh, Cantidad: 80\n",
            "Código: 80, Nombre: Beans - Yellow, Cantidad: 11\n",
            "Código: 970, Nombre: Beef - Montreal Smoked Brisket, Cantidad: 99\n",
            "Código: 118, Nombre: Beer - Camerons Auburn, Cantidad: 70\n"
          ]
        }
      ]
    },
    {
      "cell_type": "markdown",
      "source": [
        "#**3. Pruebas de ordenamiento**"
      ],
      "metadata": {
        "id": "h0_vtXlmcqwG"
      }
    },
    {
      "cell_type": "markdown",
      "source": [
        "##**Configuración de las pruebas**"
      ],
      "metadata": {
        "id": "Rnuxo18D2EsV"
      }
    },
    {
      "cell_type": "code",
      "source": [
        "my_setup = '''\n",
        "data = [{\"Código\":364,\"Nombre\":\"Cheese - Cheddar, Old White\",\"Cantidad\":86},\n",
        "{\"Código\":345,\"Nombre\":\"Pork - Loin, Center Cut\",\"Cantidad\":4},\n",
        "{\"Código\":606,\"Nombre\":\"Olive - Spread Tapenade\",\"Cantidad\":11},\n",
        "{\"Código\":516,\"Nombre\":\"Contreau\",\"Cantidad\":78},\n",
        "{\"Código\":790,\"Nombre\":\"Apple - Granny Smith\",\"Cantidad\":86},\n",
        "{\"Código\":709,\"Nombre\":\"Ecolab Silver Fusion\",\"Cantidad\":85},\n",
        "{\"Código\":924,\"Nombre\":\"Sprouts Dikon\",\"Cantidad\":7},\n",
        "{\"Código\":57,\"Nombre\":\"Sauce - Plum\",\"Cantidad\":50},\n",
        "{\"Código\":592,\"Nombre\":\"Lamb - Racks, Frenched\",\"Cantidad\":2},\n",
        "{\"Código\":956,\"Nombre\":\"Lumpfish Black\",\"Cantidad\":59},\n",
        "{\"Código\":636,\"Nombre\":\"Pasta - Orzo, Dry\",\"Cantidad\":21},\n",
        "{\"Código\":670,\"Nombre\":\"Carbonated Water - Blackberry\",\"Cantidad\":82},\n",
        "{\"Código\":243,\"Nombre\":\"Bread - Olive Dinner Roll\",\"Cantidad\":12},\n",
        "{\"Código\":826,\"Nombre\":\"Squash - Sunburst\",\"Cantidad\":58},\n",
        "{\"Código\":685,\"Nombre\":\"Wine - Zinfandel Rosenblum\",\"Cantidad\":78},\n",
        "{\"Código\":443,\"Nombre\":\"Filling - Mince Meat\",\"Cantidad\":1},\n",
        "{\"Código\":25,\"Nombre\":\"Blackberries\",\"Cantidad\":10},\n",
        "{\"Código\":469,\"Nombre\":\"Squash - Pepper\",\"Cantidad\":5},\n",
        "{\"Código\":647,\"Nombre\":\"Sugar - Sweet N Low, Individual\",\"Cantidad\":22},\n",
        "{\"Código\":232,\"Nombre\":\"Sour Puss - Tangerine\",\"Cantidad\":40},\n",
        "{\"Código\":925,\"Nombre\":\"Cabbage - Nappa\",\"Cantidad\":84},\n",
        "{\"Código\":263,\"Nombre\":\"Chicken - Breast, 5 - 7 Oz\",\"Cantidad\":53},\n",
        "{\"Código\":739,\"Nombre\":\"Juice - Clam, 46 Oz\",\"Cantidad\":65},\n",
        "{\"Código\":79,\"Nombre\":\"Filling - Mince Meat\",\"Cantidad\":43},\n",
        "{\"Código\":171,\"Nombre\":\"Stock - Beef, Brown\",\"Cantidad\":82},\n",
        "{\"Código\":405,\"Nombre\":\"Cheese - Gouda\",\"Cantidad\":50},\n",
        "{\"Código\":529,\"Nombre\":\"Chicken Giblets\",\"Cantidad\":32},\n",
        "{\"Código\":14,\"Nombre\":\"Vinegar - Balsamic\",\"Cantidad\":32},\n",
        "{\"Código\":776,\"Nombre\":\"Yogurt - Blueberry, 175 Gr\",\"Cantidad\":100},\n",
        "{\"Código\":976,\"Nombre\":\"Plastic Arrow Stir Stick\",\"Cantidad\":90},\n",
        "{\"Código\":244,\"Nombre\":\"Wine - Red, Antinori Santa\",\"Cantidad\":100},\n",
        "{\"Código\":852,\"Nombre\":\"Anchovy Fillets\",\"Cantidad\":73},\n",
        "{\"Código\":287,\"Nombre\":\"Sauce - Hoisin\",\"Cantidad\":67},\n",
        "{\"Código\":566,\"Nombre\":\"Mustard - Dijon\",\"Cantidad\":50},\n",
        "{\"Código\":761,\"Nombre\":\"Bar Mix - Pina Colada, 355 Ml\",\"Cantidad\":8},\n",
        "{\"Código\":656,\"Nombre\":\"Sauce - Vodka Blush\",\"Cantidad\":30},\n",
        "{\"Código\":946,\"Nombre\":\"Bread - Assorted Rolls\",\"Cantidad\":33},\n",
        "{\"Código\":192,\"Nombre\":\"Wine - White, Concha Y Toro\",\"Cantidad\":1},\n",
        "{\"Código\":714,\"Nombre\":\"Shrimp - Baby, Cold Water\",\"Cantidad\":29},\n",
        "{\"Código\":249,\"Nombre\":\"Gingerale - Schweppes, 355 Ml\",\"Cantidad\":38},\n",
        "{\"Código\":569,\"Nombre\":\"Cookie Dough - Double\",\"Cantidad\":74},\n",
        "{\"Código\":629,\"Nombre\":\"Container Clear 8 Oz\",\"Cantidad\":70},\n",
        "{\"Código\":128,\"Nombre\":\"Broom - Push\",\"Cantidad\":23},\n",
        "{\"Código\":668,\"Nombre\":\"Veal - Ground\",\"Cantidad\":77},\n",
        "{\"Código\":74,\"Nombre\":\"Cookie Choc\",\"Cantidad\":46},\n",
        "{\"Código\":839,\"Nombre\":\"Red Snapper - Fillet, Skin On\",\"Cantidad\":9},\n",
        "{\"Código\":140,\"Nombre\":\"Flower - Commercial Bronze\",\"Cantidad\":99},\n",
        "{\"Código\":726,\"Nombre\":\"Seabream Whole Farmed\",\"Cantidad\":99},\n",
        "{\"Código\":521,\"Nombre\":\"Bar Special K\",\"Cantidad\":73},\n",
        "{\"Código\":993,\"Nombre\":\"Sauce - Bernaise, Mix\",\"Cantidad\":10},\n",
        "{\"Código\":615,\"Nombre\":\"Jolt Cola\",\"Cantidad\":4},\n",
        "{\"Código\":742,\"Nombre\":\"Lamb - Shanks\",\"Cantidad\":84},\n",
        "{\"Código\":498,\"Nombre\":\"Pickerel - Fillets\",\"Cantidad\":96},\n",
        "{\"Código\":848,\"Nombre\":\"Tuna - Bluefin\",\"Cantidad\":89},\n",
        "{\"Código\":80,\"Nombre\":\"Beans - Yellow\",\"Cantidad\":11},\n",
        "{\"Código\":792,\"Nombre\":\"Orange - Blood\",\"Cantidad\":97},\n",
        "{\"Código\":118,\"Nombre\":\"Beer - Camerons Auburn\",\"Cantidad\":70},\n",
        "{\"Código\":482,\"Nombre\":\"Pepper - Julienne, Frozen\",\"Cantidad\":6},\n",
        "{\"Código\":250,\"Nombre\":\"Honey - Liquid\",\"Cantidad\":34},\n",
        "{\"Código\":961,\"Nombre\":\"Ice Cream Bar - Oreo Sandwich\",\"Cantidad\":100},\n",
        "{\"Código\":666,\"Nombre\":\"Mountain Dew\",\"Cantidad\":12},\n",
        "{\"Código\":55,\"Nombre\":\"Iced Tea - Lemon, 340ml\",\"Cantidad\":50},\n",
        "{\"Código\":900,\"Nombre\":\"Brandy Apricot\",\"Cantidad\":37},\n",
        "{\"Código\":830,\"Nombre\":\"Pepper - Chillies, Crushed\",\"Cantidad\":6},\n",
        "{\"Código\":202,\"Nombre\":\"Juice - Lagoon Mango\",\"Cantidad\":68},\n",
        "{\"Código\":879,\"Nombre\":\"Plasticknivesblack\",\"Cantidad\":57},\n",
        "{\"Código\":390,\"Nombre\":\"Dikon\",\"Cantidad\":4},\n",
        "{\"Código\":93,\"Nombre\":\"Tart Shells - Savory, 2\",\"Cantidad\":52},\n",
        "{\"Código\":10,\"Nombre\":\"Veal - Tenderloin, Untrimmed\",\"Cantidad\":24},\n",
        "{\"Código\":403,\"Nombre\":\"Chips Potato Salt Vinegar 43g\",\"Cantidad\":29},\n",
        "{\"Código\":648,\"Nombre\":\"Corn Syrup\",\"Cantidad\":84},\n",
        "{\"Código\":996,\"Nombre\":\"Cocoa Powder - Natural\",\"Cantidad\":98},\n",
        "{\"Código\":529,\"Nombre\":\"Chinese Foods - Plain Fried Rice\",\"Cantidad\":19},\n",
        "{\"Código\":965,\"Nombre\":\"Muffin Batt - Blueberry Passion\",\"Cantidad\":11},\n",
        "{\"Código\":811,\"Nombre\":\"Pork - Sausage, Medium\",\"Cantidad\":52},\n",
        "{\"Código\":43,\"Nombre\":\"Gin - Gilbeys London, Dry\",\"Cantidad\":11},\n",
        "{\"Código\":655,\"Nombre\":\"Muffin - Carrot Individual Wrap\",\"Cantidad\":35},\n",
        "{\"Código\":720,\"Nombre\":\"Shiro Miso\",\"Cantidad\":26},\n",
        "{\"Código\":939,\"Nombre\":\"Muffin Orange Individual\",\"Cantidad\":43},\n",
        "{\"Código\":482,\"Nombre\":\"Pork - Bacon Cooked Slcd\",\"Cantidad\":27},\n",
        "{\"Código\":901,\"Nombre\":\"Spring Roll Veg Mini\",\"Cantidad\":84},\n",
        "{\"Código\":847,\"Nombre\":\"Turkey - Ground. Lean\",\"Cantidad\":72},\n",
        "{\"Código\":541,\"Nombre\":\"Cheese - Le Cheve Noir\",\"Cantidad\":36},\n",
        "{\"Código\":818,\"Nombre\":\"Liners - Banana, Paper\",\"Cantidad\":61},\n",
        "{\"Código\":886,\"Nombre\":\"Passion Fruit\",\"Cantidad\":89},\n",
        "{\"Código\":56,\"Nombre\":\"Wine - Casillero Deldiablo\",\"Cantidad\":66},\n",
        "{\"Código\":837,\"Nombre\":\"Crab - Dungeness, Whole\",\"Cantidad\":96},\n",
        "{\"Código\":912,\"Nombre\":\"Blouse / Shirt / Sweater\",\"Cantidad\":98},\n",
        "{\"Código\":734,\"Nombre\":\"Chicken - Leg, Fresh\",\"Cantidad\":90},\n",
        "{\"Código\":474,\"Nombre\":\"Wine - Red, Black Opal Shiraz\",\"Cantidad\":77},\n",
        "{\"Código\":349,\"Nombre\":\"Green Tea Refresher\",\"Cantidad\":54},\n",
        "{\"Código\":479,\"Nombre\":\"English Muffin\",\"Cantidad\":51},\n",
        "{\"Código\":978,\"Nombre\":\"Wine - Red, Antinori Santa\",\"Cantidad\":28},\n",
        "{\"Código\":568,\"Nombre\":\"Pie Filling - Cherry\",\"Cantidad\":41},\n",
        "{\"Código\":783,\"Nombre\":\"Sauce - Sesame Thai Dressing\",\"Cantidad\":23},\n",
        "{\"Código\":158,\"Nombre\":\"Muffin Hinge - 211n\",\"Cantidad\":63},\n",
        "{\"Código\":815,\"Nombre\":\"Lemonade - Black Cherry, 591 Ml\",\"Cantidad\":92},\n",
        "{\"Código\":175,\"Nombre\":\"Sole - Dover, Whole, Fresh\",\"Cantidad\":73},\n",
        "{\"Código\":467,\"Nombre\":\"Potatoes - Fingerling 4 Oz\",\"Cantidad\":91},\n",
        "{\"Código\":425,\"Nombre\":\"Quail - Jumbo Boneless\",\"Cantidad\":23},\n",
        "{\"Código\":760,\"Nombre\":\"Juice - Mango\",\"Cantidad\":4},\n",
        "{\"Código\":945,\"Nombre\":\"Wine - Ej Gallo Sierra Valley\",\"Cantidad\":61},\n",
        "{\"Código\":845,\"Nombre\":\"Tuna - Bluefin\",\"Cantidad\":50},\n",
        "{\"Código\":129,\"Nombre\":\"Bread - 10 Grain\",\"Cantidad\":22},\n",
        "{\"Código\":734,\"Nombre\":\"Lettuce - California Mix\",\"Cantidad\":74},\n",
        "{\"Código\":213,\"Nombre\":\"Cheese - Taleggio D.o.p.\",\"Cantidad\":63},\n",
        "{\"Código\":905,\"Nombre\":\"Tilapia - Fillets\",\"Cantidad\":24},\n",
        "{\"Código\":622,\"Nombre\":\"Pastry - Chocolate Chip Muffin\",\"Cantidad\":49},\n",
        "{\"Código\":75,\"Nombre\":\"Sprouts - Corn\",\"Cantidad\":61},\n",
        "{\"Código\":117,\"Nombre\":\"Maintenance Removal Charge\",\"Cantidad\":34},\n",
        "{\"Código\":97,\"Nombre\":\"Tequila Rose Cream Liquor\",\"Cantidad\":3},\n",
        "{\"Código\":157,\"Nombre\":\"Wine - Red, Metus Rose\",\"Cantidad\":64},\n",
        "{\"Código\":813,\"Nombre\":\"Sauce - Bernaise, Mix\",\"Cantidad\":90},\n",
        "{\"Código\":540,\"Nombre\":\"Crab - Back Fin Meat, Canned\",\"Cantidad\":65},\n",
        "{\"Código\":810,\"Nombre\":\"Sugar - Brown\",\"Cantidad\":52},\n",
        "{\"Código\":311,\"Nombre\":\"Neckerchief Blck\",\"Cantidad\":10},\n",
        "{\"Código\":530,\"Nombre\":\"Puree - Kiwi\",\"Cantidad\":59},\n",
        "{\"Código\":808,\"Nombre\":\"Trueblue - Blueberry\",\"Cantidad\":90},\n",
        "{\"Código\":970,\"Nombre\":\"Beef - Montreal Smoked Brisket\",\"Cantidad\":99},\n",
        "{\"Código\":335,\"Nombre\":\"Mini - Vol Au Vents\",\"Cantidad\":45},\n",
        "{\"Código\":873,\"Nombre\":\"Pasta - Fettuccine, Dry\",\"Cantidad\":45},\n",
        "{\"Código\":827,\"Nombre\":\"Currants\",\"Cantidad\":45},\n",
        "{\"Código\":177,\"Nombre\":\"Chocolate - Pistoles, White\",\"Cantidad\":96},\n",
        "{\"Código\":921,\"Nombre\":\"Ginger - Pickled\",\"Cantidad\":34},\n",
        "{\"Código\":756,\"Nombre\":\"Garam Masala Powder\",\"Cantidad\":89},\n",
        "{\"Código\":470,\"Nombre\":\"Crab Brie In Phyllo\",\"Cantidad\":54},\n",
        "{\"Código\":944,\"Nombre\":\"Heavy Duty Dust Pan\",\"Cantidad\":54},\n",
        "{\"Código\":824,\"Nombre\":\"Pepsi - Diet, 355 Ml\",\"Cantidad\":32},\n",
        "{\"Código\":663,\"Nombre\":\"Potato - Sweet\",\"Cantidad\":20},\n",
        "{\"Código\":62,\"Nombre\":\"Shrimp - Black Tiger 13/15\",\"Cantidad\":95},\n",
        "{\"Código\":431,\"Nombre\":\"Lemonade - Pineapple Passion\",\"Cantidad\":28},\n",
        "{\"Código\":571,\"Nombre\":\"Pasta - Lasagna Noodle, Frozen\",\"Cantidad\":23},\n",
        "{\"Código\":447,\"Nombre\":\"Scallops - 10/20\",\"Cantidad\":34},\n",
        "{\"Código\":967,\"Nombre\":\"Soup - French Can Pea\",\"Cantidad\":41},\n",
        "{\"Código\":18,\"Nombre\":\"Wine - White, Pinot Grigio\",\"Cantidad\":54},\n",
        "{\"Código\":395,\"Nombre\":\"Spring Roll Wrappers\",\"Cantidad\":95},\n",
        "{\"Código\":233,\"Nombre\":\"Olives - Green, Pitted\",\"Cantidad\":54},\n",
        "{\"Código\":816,\"Nombre\":\"Soup - Campbells, Classic Chix\",\"Cantidad\":3},\n",
        "{\"Código\":220,\"Nombre\":\"Chambord Royal\",\"Cantidad\":99},\n",
        "{\"Código\":406,\"Nombre\":\"Soda Water - Club Soda, 355 Ml\",\"Cantidad\":42},\n",
        "{\"Código\":861,\"Nombre\":\"Cup - 4oz Translucent\",\"Cantidad\":32},\n",
        "{\"Código\":536,\"Nombre\":\"Vinegar - Red Wine\",\"Cantidad\":28},\n",
        "{\"Código\":32,\"Nombre\":\"Meldea Green Tea Liquor\",\"Cantidad\":68},\n",
        "{\"Código\":491,\"Nombre\":\"Pepper - Red, Finger Hot\",\"Cantidad\":22},\n",
        "{\"Código\":361,\"Nombre\":\"Wine La Vielle Ferme Cote Du\",\"Cantidad\":9},\n",
        "{\"Código\":201,\"Nombre\":\"Chicken Giblets\",\"Cantidad\":96},\n",
        "{\"Código\":488,\"Nombre\":\"Thermometer Digital\",\"Cantidad\":29},\n",
        "{\"Código\":625,\"Nombre\":\"Cheese - Goat With Herbs\",\"Cantidad\":91},\n",
        "{\"Código\":204,\"Nombre\":\"Kiwano\",\"Cantidad\":78},\n",
        "{\"Código\":928,\"Nombre\":\"Ice Cream - Life Savers\",\"Cantidad\":12},\n",
        "{\"Código\":103,\"Nombre\":\"Wine - Maipo Valle Cabernet\",\"Cantidad\":7},\n",
        "{\"Código\":336,\"Nombre\":\"Rappini - Andy Boy\",\"Cantidad\":38},\n",
        "{\"Código\":422,\"Nombre\":\"Wine - Remy Pannier Rose\",\"Cantidad\":36},\n",
        "{\"Código\":716,\"Nombre\":\"Whmis Spray Bottle Graduated\",\"Cantidad\":49},\n",
        "{\"Código\":891,\"Nombre\":\"Ice Cream - Fudge Bars\",\"Cantidad\":2},\n",
        "{\"Código\":675,\"Nombre\":\"Wine - Rosso Toscano Igt\",\"Cantidad\":6},\n",
        "{\"Código\":763,\"Nombre\":\"Muffin - Mix - Bran And Maple 15l\",\"Cantidad\":56},\n",
        "{\"Código\":574,\"Nombre\":\"Rice - Wild\",\"Cantidad\":38},\n",
        "{\"Código\":409,\"Nombre\":\"Bread - Bagels, Plain\",\"Cantidad\":71},\n",
        "{\"Código\":772,\"Nombre\":\"Pasta - Gnocchi, Potato\",\"Cantidad\":46},\n",
        "{\"Código\":620,\"Nombre\":\"Mussels - Frozen\",\"Cantidad\":83},\n",
        "{\"Código\":487,\"Nombre\":\"Pepper - Chili Powder\",\"Cantidad\":77},\n",
        "{\"Código\":411,\"Nombre\":\"Wine - Soave Folonari\",\"Cantidad\":93},\n",
        "{\"Código\":770,\"Nombre\":\"Sole - Dover, Whole, Fresh\",\"Cantidad\":94},\n",
        "{\"Código\":511,\"Nombre\":\"Truffle Cups Green\",\"Cantidad\":90},\n",
        "{\"Código\":37,\"Nombre\":\"Food Colouring - Orange\",\"Cantidad\":35},\n",
        "{\"Código\":412,\"Nombre\":\"Ostrich - Fan Fillet\",\"Cantidad\":88},\n",
        "{\"Código\":84,\"Nombre\":\"Bacardi Limon\",\"Cantidad\":39},\n",
        "{\"Código\":734,\"Nombre\":\"Bay Leaf Fresh\",\"Cantidad\":80},\n",
        "{\"Código\":207,\"Nombre\":\"Venison - Denver Leg Boneless\",\"Cantidad\":76},\n",
        "{\"Código\":278,\"Nombre\":\"Cookie Dough - Double\",\"Cantidad\":35},\n",
        "{\"Código\":193,\"Nombre\":\"Truffle Cups Green\",\"Cantidad\":38},\n",
        "{\"Código\":277,\"Nombre\":\"Pasta - Ravioli\",\"Cantidad\":94},\n",
        "{\"Código\":897,\"Nombre\":\"Extract - Almond\",\"Cantidad\":37},\n",
        "{\"Código\":468,\"Nombre\":\"Cucumber - English\",\"Cantidad\":48},\n",
        "{\"Código\":925,\"Nombre\":\"Catfish - Fillets\",\"Cantidad\":85},\n",
        "{\"Código\":773,\"Nombre\":\"Muffin Mix - Carrot\",\"Cantidad\":88},\n",
        "{\"Código\":495,\"Nombre\":\"Flower - Leather Leaf Fern\",\"Cantidad\":57},\n",
        "{\"Código\":478,\"Nombre\":\"Sausage - Andouille\",\"Cantidad\":3},\n",
        "{\"Código\":669,\"Nombre\":\"Cheese - Camembert\",\"Cantidad\":12},\n",
        "{\"Código\":573,\"Nombre\":\"Soup - Campbells Asian Noodle\",\"Cantidad\":93},\n",
        "{\"Código\":925,\"Nombre\":\"Vegetable - Base\",\"Cantidad\":92},\n",
        "{\"Código\":558,\"Nombre\":\"Buttons\",\"Cantidad\":89},\n",
        "{\"Código\":304,\"Nombre\":\"Pan Grease\",\"Cantidad\":61},\n",
        "{\"Código\":167,\"Nombre\":\"Chicken - Thigh, Bone In\",\"Cantidad\":2},\n",
        "{\"Código\":82,\"Nombre\":\"Chips Potato Salt Vinegar 43g\",\"Cantidad\":39},\n",
        "{\"Código\":73,\"Nombre\":\"Onions - Cooking\",\"Cantidad\":94},\n",
        "{\"Código\":269,\"Nombre\":\"Cleaner - Bleach\",\"Cantidad\":92},\n",
        "{\"Código\":980,\"Nombre\":\"Sprouts - Alfalfa\",\"Cantidad\":93},\n",
        "{\"Código\":78,\"Nombre\":\"Arctic Char - Fresh, Whole\",\"Cantidad\":64},\n",
        "{\"Código\":44,\"Nombre\":\"Veal - Bones\",\"Cantidad\":49},\n",
        "{\"Código\":754,\"Nombre\":\"Jam - Raspberry,jar\",\"Cantidad\":45},\n",
        "{\"Código\":620,\"Nombre\":\"Cheese - Taleggio D.o.p.\",\"Cantidad\":72},\n",
        "{\"Código\":290,\"Nombre\":\"Fennel\",\"Cantidad\":27},\n",
        "{\"Código\":765,\"Nombre\":\"Tea - Mint\",\"Cantidad\":10},\n",
        "{\"Código\":594,\"Nombre\":\"Croissant, Raw - Mini\",\"Cantidad\":31},\n",
        "{\"Código\":535,\"Nombre\":\"Ice Cream - Strawberry\",\"Cantidad\":89},\n",
        "{\"Código\":279,\"Nombre\":\"Browning Caramel Glace\",\"Cantidad\":38},\n",
        "{\"Código\":701,\"Nombre\":\"Pastry - Baked Scones - Mini\",\"Cantidad\":9},\n",
        "{\"Código\":346,\"Nombre\":\"Sprouts - Brussel\",\"Cantidad\":60}]\n",
        "\n",
        "def inventory_sort(data, order_type):\n",
        "    if order_type == \"Código\":\n",
        "        return quicksort(data, key=lambda x: x[\"Código\"])\n",
        "    elif order_type == \"Nombre\":\n",
        "        return mergesort(data, key=lambda x: x[\"Nombre\"])\n",
        "    elif order_type == \"Cantidad\":\n",
        "        return quicksort(data, key=lambda x: x[\"Cantidad\"])\n",
        "    else:\n",
        "        raise ValueError(\"Tipo de ordenamiento no válido\")\n",
        "\n",
        "def quicksort(data, key=lambda x: x):\n",
        "    if len(data) <= 1:\n",
        "        return data\n",
        "    pivot = data[len(data) // 2]\n",
        "    less = [x for x in data if key(x) < key(pivot)]\n",
        "    equal = [x for x in data if key(x) == key(pivot)]\n",
        "    greater = [x for x in data if key(x) > key(pivot)]\n",
        "    return quicksort(less, key) + equal + quicksort(greater, key)\n",
        "\n",
        "def mergesort(data, key=lambda x: x):\n",
        "    if len(data) <= 1:\n",
        "        return data\n",
        "    middle = len(data) // 2\n",
        "    left = mergesort(data[:middle], key)\n",
        "    right = mergesort(data[middle:], key)\n",
        "    return merge(left, right, key)\n",
        "\n",
        "def merge(left, right, key=lambda x: x):\n",
        "    result = []\n",
        "    i = j = 0\n",
        "    while i < len(left) and j < len(right):\n",
        "        if key(left[i]) < key(right[j]):\n",
        "            result.append(left[i])\n",
        "            i += 1\n",
        "        else:\n",
        "            result.append(right[j])\n",
        "            j += 1\n",
        "    result.extend(left[i:])\n",
        "    result.extend(right[j:])\n",
        "    return result\n",
        "\n",
        "def print_inventory(data):\n",
        "    for item in data:\n",
        "        print(f\"Código: {item['Código']}, Nombre: {item['Nombre']}, Cantidad: {item['Cantidad']}\")\n",
        "\n",
        "'''\n",
        "\n",
        "my_code1 = '''\n",
        "order_type = \"Código\"\n",
        "sorted_data = inventory_sort(data, order_type)\n",
        "'''\n",
        "my_code2 = '''\n",
        "order_type = \"Cantidad\"\n",
        "sorted_data = inventory_sort(data, order_type)\n",
        "'''\n",
        "my_code3 = '''\n",
        "order_type = \"Nombre\"\n",
        "sorted_data = inventory_sort(data, order_type)\n",
        "'''"
      ],
      "metadata": {
        "id": "PHbO002usAtJ"
      },
      "execution_count": 21,
      "outputs": []
    },
    {
      "cell_type": "markdown",
      "source": [
        "## **Prueba de tiempo por código**"
      ],
      "metadata": {
        "id": "B3GiPTyjxzQN"
      }
    },
    {
      "cell_type": "code",
      "source": [
        "import timeit\n",
        "exec_time1 = timeit.timeit(stmt=my_code1,\n",
        "                          setup=my_setup,\n",
        "                          number=10000) * 10**3\n",
        "print(f\"Ordenamiento por Código, Tiempo de ejecución: {exec_time1:.03f}ms\")"
      ],
      "metadata": {
        "colab": {
          "base_uri": "https://localhost:8080/"
        },
        "id": "qh9lEFISsSRC",
        "outputId": "d1b7ab41-a368-4bb4-892d-ca58717375ab"
      },
      "execution_count": 22,
      "outputs": [
        {
          "output_type": "stream",
          "name": "stdout",
          "text": [
            "Ordenamiento por Código, Tiempo de ejecución: 14515.143ms\n"
          ]
        }
      ]
    },
    {
      "cell_type": "markdown",
      "source": [
        "## **Prueba de tiempo por cantidad**"
      ],
      "metadata": {
        "id": "-paZ0TPix-fi"
      }
    },
    {
      "cell_type": "code",
      "source": [
        "import timeit\n",
        "exec_time2 = timeit.timeit(stmt=my_code2,\n",
        "                          setup=my_setup,\n",
        "                          number=10000) * 10**3\n",
        "print(f\"Ordenamiento por Cantidad, Tiempo de ejecución: {exec_time2:.03f}ms\")"
      ],
      "metadata": {
        "colab": {
          "base_uri": "https://localhost:8080/"
        },
        "id": "0KEjSje9sSGM",
        "outputId": "c2e6df96-019d-46d7-c973-633304a62e19"
      },
      "execution_count": 23,
      "outputs": [
        {
          "output_type": "stream",
          "name": "stdout",
          "text": [
            "Ordenamiento por Cantidad, Tiempo de ejecución: 11946.546ms\n"
          ]
        }
      ]
    },
    {
      "cell_type": "markdown",
      "source": [
        "## **Prueba de tiempo por nombre**"
      ],
      "metadata": {
        "id": "rSS5GM5FyAnG"
      }
    },
    {
      "cell_type": "code",
      "source": [
        "import timeit\n",
        "exec_time3 = timeit.timeit(stmt=my_code3,\n",
        "                          setup=my_setup,\n",
        "                          number=10000) * 10**3\n",
        "print(f\"Ordenamiento por Nombre, Tiempo de ejecución: {exec_time3:.03f}ms\")"
      ],
      "metadata": {
        "colab": {
          "base_uri": "https://localhost:8080/"
        },
        "id": "XynPYZNTsR7j",
        "outputId": "cad4d146-c2c1-4488-a6d6-adbca885c56a"
      },
      "execution_count": 24,
      "outputs": [
        {
          "output_type": "stream",
          "name": "stdout",
          "text": [
            "Ordenamiento por Nombre, Tiempo de ejecución: 10989.607ms\n"
          ]
        }
      ]
    }
  ]
}